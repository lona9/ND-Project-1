{
 "cells": [
  {
   "cell_type": "markdown",
   "id": "059b261c",
   "metadata": {},
   "source": [
    "# Project 1: Write a Data Science Blog Post\n",
    "\n",
    "For this project, Chilean elections datasets were used to answer some questions regarding the preferences and behavior of voters, in light of the latest election on Sunday 21, November. This data was assessed, cleaned and analyzed to generate some visualizations, which will be later used for a blog post on Medium."
   ]
  },
  {
   "cell_type": "markdown",
   "id": "78b3a1bf",
   "metadata": {},
   "source": [
    "### Table of contents\n",
    "- <a href=\"#loading\">Loading the datasets</a>\n",
    "- <a href=\"#cleaning\">Cleaning the data</a>\n",
    "- <a href=\"#analyzing\">Analyzing the data</a>\n",
    "    - <a href=\"participation\">Participation during first and second rounds</a>\n",
    "    - <a href=\"blanknull\">Blank and null votes during first rounds</a>\n",
    "    - <a href=\"gender\">Votes for Presidental Winner by gender</a>\n",
    "    - <a href=\"previous\">Votes for current runners in previous elections</a>"
   ]
  },
  {
   "cell_type": "code",
   "execution_count": 323,
   "id": "9db3bdd8",
   "metadata": {},
   "outputs": [],
   "source": [
    "## initial imports\n",
    "import pandas as pd\n",
    "import numpy as np\n",
    "import matplotlib.pyplot as plt\n",
    "import seaborn as sns\n",
    "%matplotlib inline"
   ]
  },
  {
   "cell_type": "markdown",
   "id": "a13a7e79",
   "metadata": {},
   "source": [
    "<a id=\"loading\"></a>\n",
    "## Loading the datasets\n",
    "All data was obtained from the SERVEL website: \n",
    "- Historic dataset for elections from 1989 to 2017, directly from the website\n",
    "- Data for 2021 elections was gathered from the latest election website available, and consolidated in its own file\n",
    "- Data for electoral rolls was gathered from different rolls for all years (for second rounds, the same roll was assumed)"
   ]
  },
  {
   "cell_type": "code",
   "execution_count": 407,
   "id": "39331a08",
   "metadata": {},
   "outputs": [],
   "source": [
    "## loading both datasets\n",
    "df_historic = pd.read_excel(\"resultados_elecciones_presidenciales_ce_1989_2017_Chile.xlsx\")\n",
    "df_2021 = pd.read_excel(\"ELECCIONES 2021.xlsx\")"
   ]
  },
  {
   "cell_type": "code",
   "execution_count": 411,
   "id": "a50f9cab",
   "metadata": {},
   "outputs": [],
   "source": [
    "## appending the 2021 results to the historic dataset\n",
    "df_original = df_historic.append(df_2021)\n",
    "df = df_original.copy()"
   ]
  },
  {
   "cell_type": "markdown",
   "id": "70687c89",
   "metadata": {},
   "source": [
    "<a id=\"cleaning\"></a>\n",
    "## Assesing and cleaning the data\n",
    "\n",
    "These steps where moved together after preparing the data, but respond to issues faced while coding and assessing. The main issue was the column names, as they're written in a friendly format for Excel, but not so much for pandas. We also found a lot of duplicate results when aggregating the data, which was caused by some strings being written in a slightly different way, or extra whitespace that needed to be removed. In this case, we had a lot of data concerning towns and cities for all years except 2021, so using national data was opted, but more detailed results would need an updated dataset which includes the latest election, but this is just a first look so a national overview is good too."
   ]
  },
  {
   "cell_type": "code",
   "execution_count": 412,
   "id": "1ff86f9e",
   "metadata": {
    "scrolled": false
   },
   "outputs": [
    {
     "name": "stderr",
     "output_type": "stream",
     "text": [
      "<ipython-input-412-f668a50935d7>:2: FutureWarning: The default value of regex will change from True to False in a future version. In addition, single character regular expressions will*not* be treated as literal strings when regex=True.\n",
      "  df.columns = df.columns.str.lower().str.replace(' ', '_').str.replace('(', '').str.replace(')', '').str.replace(\"ó\", \"o\").str.replace(\"í\", \"i\").str.strip()\n"
     ]
    }
   ],
   "source": [
    "## replacing uppercase characters, punctuation, spaces for easier to use columns names\n",
    "df.columns = df.columns.str.lower().str.replace(' ', '_').str.replace('(', '').str.replace(')', '').str.replace(\"ó\", \"o\").str.replace(\"í\", \"i\").str.strip()"
   ]
  },
  {
   "cell_type": "code",
   "execution_count": 413,
   "id": "58df27ed",
   "metadata": {},
   "outputs": [
    {
     "data": {
      "text/plain": [
       "Index(['tipo_de_eleccion', 'cargo', 'fecha_de_eleccion', 'año_de_eleccion',\n",
       "       'inicio_de_periodo', 'fin_de_periodo', 'periodo',\n",
       "       'votacion_presidencial', 'id_region', 'region', 'provincia',\n",
       "       'nombre_provincia', 'comuna', 'circunscripcion_electoral', 'sexo_mesa',\n",
       "       'candidato_a', 'nombres', 'apellido_paterno', 'apellido_materno',\n",
       "       'sexo', 'electoa', 'partido', 'sigla_partido', 'votos_totales'],\n",
       "      dtype='object')"
      ]
     },
     "execution_count": 413,
     "metadata": {},
     "output_type": "execute_result"
    }
   ],
   "source": [
    "## check new names\n",
    "df.columns"
   ]
  },
  {
   "cell_type": "code",
   "execution_count": 414,
   "id": "19f3fd36",
   "metadata": {},
   "outputs": [],
   "source": [
    "## remove extra whitespace in string columns to avoid unnecessary duplicates when aggregating results\n",
    "for column in df.select_dtypes(include=\"object\").columns:\n",
    "    df[column] = df[column].str.strip()"
   ]
  },
  {
   "cell_type": "code",
   "execution_count": 415,
   "id": "67392541",
   "metadata": {
    "scrolled": false
   },
   "outputs": [
    {
     "name": "stderr",
     "output_type": "stream",
     "text": [
      "<ipython-input-415-12b93957e503>:2: FutureWarning: The default value of regex will change from True to False in a future version.\n",
      "  df[\"region\"] = df[\"region\"].str.replace(\"DEL LIBERTADOR BDO. OHIGGINS\", \"DEL LIBERTADOR BDO. O'HIGGINS\")\n"
     ]
    }
   ],
   "source": [
    "## replace name of region to match other rows\n",
    "df[\"region\"] = df[\"region\"].str.replace(\"DEL LIBERTADOR BDO. OHIGGINS\", \"DEL LIBERTADOR BDO. O'HIGGINS\")"
   ]
  },
  {
   "cell_type": "code",
   "execution_count": 432,
   "id": "64b3706c",
   "metadata": {},
   "outputs": [],
   "source": [
    "## replace candidate name to match other rows\n",
    "df[\"candidato_a\"] = df[\"candidato_a\"].str.replace('MARCO ENRIQUEZ-OMINAMI GUMUCIO', 'MARCO ENRIQUEZ-OMINAMI')\n",
    "df[\"candidato_a\"] = df[\"candidato_a\"].str.replace('MARCO  ENRIQUEZ-OMINAMI GUMUCIO', 'MARCO ENRIQUEZ-OMINAMI')\n",
    "df[\"candidato_a\"] = df[\"candidato_a\"].str.replace('FRANCO ALDO PARISI FERNANDEZ', \"FRANCO PARISI FERNANDEZ\")"
   ]
  },
  {
   "cell_type": "markdown",
   "id": "66db83e7",
   "metadata": {},
   "source": [
    "<a id=\"analyzing\"></a>\n",
    "## Analyzing the data\n",
    "\n",
    "The questions posed below stem from fresh curiosity after this weekend's elections, which drive the need for some insight based on previous national elections, and wanting to know how participation varies between rounds, the proportion of people who vote either blank or null on a first or unique round of elections, getting to know how men and women vote when it comes to the winner for previous elections, and to see the magnitude of new voters for candidates who were running after previous attempts. "
   ]
  },
  {
   "cell_type": "markdown",
   "id": "1d36c1f2",
   "metadata": {},
   "source": [
    "<a id=\"participation\"></a>\n",
    "### Participation during first and second rounds"
   ]
  },
  {
   "cell_type": "code",
   "execution_count": 593,
   "id": "f5792e6e",
   "metadata": {},
   "outputs": [],
   "source": [
    "## yearly electoral rolls data for total elegible voters\n",
    "\n",
    "electoral_rolls = {\"1989-12-14\": 7557537,\n",
    "                  \"1993-12-11\": 8085439,\n",
    "                  \"1999-12-12\": 8084476,\n",
    "                  \"2000-01-16\": 8084476,\n",
    "                  \"2005-12-11\": 8220897,\n",
    "                  \"2006-01-15\": 8220897,\n",
    "                  \"2009-12-13\": 8285186,\n",
    "                  \"2010-01-17\": 8285186,\n",
    "                  \"2013-11-17\": 13573143,\n",
    "                  \"2013-12-15\": 13573143,\n",
    "                  \"2017-11-19\": 14308151,\n",
    "                  \"2017-12-17\": 14308151,\n",
    "                  \"2021-11-21\": 14959956}"
   ]
  },
  {
   "cell_type": "code",
   "execution_count": 594,
   "id": "b6ee5ff9",
   "metadata": {
    "scrolled": false
   },
   "outputs": [],
   "source": [
    "## creating lists of date labels for each rounds\n",
    "\n",
    "yearly_electoral_rolls = list(electoral_roll.values())\n",
    "\n",
    "firstround_indices = [2,4,6,8,10,12]\n",
    "secondround_indices = [3,5,7,9,11]\n",
    "firstround_rolls = [yearly_electoral_rolls[x] for x in firstround_indices]\n",
    "secondround_rolls = [yearly_electoral_rolls[x] for x in secondround_indices]"
   ]
  },
  {
   "cell_type": "code",
   "execution_count": 595,
   "id": "06879faa",
   "metadata": {
    "scrolled": true
   },
   "outputs": [
    {
     "data": {
      "text/plain": [
       "fecha_de_eleccion\n",
       "1999-12-12    89.944877\n",
       "2005-12-11    87.670214\n",
       "2009-12-13    87.676197\n",
       "2013-11-17    49.354899\n",
       "2017-11-19    46.686822\n",
       "2021-11-21    47.336730\n",
       "Name: votos_totales, dtype: float64"
      ]
     },
     "execution_count": 595,
     "metadata": {},
     "output_type": "execute_result"
    }
   ],
   "source": [
    "## obtaining first round total votes and percentage for each election\n",
    "firstround_total_votes = df.query(\"votacion_presidencial == ['PRIMERA VOTACIÓN']\").groupby(by=[\"fecha_de_eleccion\"])[\"votos_totales\"].sum()\n",
    "pctg_firstround_votes = firstround_total_votes / firstround_rolls * 100\n",
    "pctg_firstround_votes"
   ]
  },
  {
   "cell_type": "code",
   "execution_count": 596,
   "id": "011b8548",
   "metadata": {},
   "outputs": [
    {
     "data": {
      "text/plain": [
       "fecha_de_eleccion\n",
       "2000-01-16    90.627432\n",
       "2006-01-15    87.123644\n",
       "2010-01-17    86.942780\n",
       "2013-12-15    41.978125\n",
       "2017-12-17    49.003942\n",
       "Name: votos_totales, dtype: float64"
      ]
     },
     "execution_count": 596,
     "metadata": {},
     "output_type": "execute_result"
    }
   ],
   "source": [
    "## obtaining second round total votes and percentage for each election\n",
    "secondround_total_votes = df.query(\"votacion_presidencial == ['SEGUNDA VOTACIÓN']\").groupby(by=[\"fecha_de_eleccion\"])[\"votos_totales\"].sum()\n",
    "pctg_secondround_votes = secondround_total_votes / secondround_rolls * 100\n",
    "pctg_secondround_votes"
   ]
  },
  {
   "cell_type": "code",
   "execution_count": 597,
   "id": "7fd2a954",
   "metadata": {
    "scrolled": true
   },
   "outputs": [
    {
     "data": {
      "text/plain": [
       "2000-01-16 00:00:00    90.627432\n",
       "2006-01-15 00:00:00    87.123644\n",
       "2010-01-17 00:00:00    86.942780\n",
       "2013-12-15 00:00:00    41.978125\n",
       "2017-12-17 00:00:00    49.003942\n",
       "2021                    0.000000\n",
       "dtype: float64"
      ]
     },
     "execution_count": 597,
     "metadata": {},
     "output_type": "execute_result"
    }
   ],
   "source": [
    "## adding a row for 2021 second round to plot all years\n",
    "secondround_2021 = pd.Series([0], index=[2021])\n",
    "pctg_secondround_votes = pctg_secondround_votes.append(secondround_2021)\n",
    "pctg_secondround_votes"
   ]
  },
  {
   "cell_type": "code",
   "execution_count": 598,
   "id": "e68b58d0",
   "metadata": {},
   "outputs": [],
   "source": [
    "## general parameters for plotting\n",
    "rounds_years_labels = list(df.query(\"votacion_presidencial == ['PRIMERA VOTACIÓN']\").año_de_eleccion.unique().astype(\"str\"))\n",
    "ind = np.arange(len(pctg_firstround_votes))\n",
    "ticks = np.arange(len(rounds_years_labels))\n",
    "width = 0.3"
   ]
  },
  {
   "cell_type": "code",
   "execution_count": 599,
   "id": "a61a36b0",
   "metadata": {
    "scrolled": false
   },
   "outputs": [
    {
     "data": {
      "image/png": "[encoded data removed]",
      "text/plain": [
       "<Figure size 1000x550 with 1 Axes>"
      ]
     },
     "metadata": {
      "needs_background": "light"
     },
     "output_type": "display_data"
    }
   ],
   "source": [
    "## plotting the results\n",
    "plt.figure(figsize=(10,5.5), dpi=100)\n",
    "plt.bar(ind, pctg_firstround_votes, width, label = \"First Round\", color=(0.33, 0.62, 0.67, 0.85))\n",
    "plt.bar(ind + width, pctg_secondround_votes, width, label = \"Second Round\", color=(0.93, 0.4, 0.4, 0.6))\n",
    "legends = [\"First Round\", \"Second Round\"]\n",
    "\n",
    "plt.ylabel('Percentage of total elegible voters', fontsize=14)\n",
    "plt.xlabel('Year of Elections', fontsize=14)\n",
    "plt.title('Percentage of Voters during First and Second Rounds', fontsize=20)\n",
    "locations = ticks + 0.15\n",
    "labels = rounds_years_labels\n",
    "plt.xticks(locations, labels, fontsize=12)\n",
    "plt.yticks()\n",
    "plt.legend(legends, fontsize=10)\n",
    "plt.axvline(x=2.8, ymax = 0.9, color=\"black\")\n",
    "plt.text(2.9,75,'2012: End of \\ncompulsory vote',rotation=0)\n",
    "sns.despine();"
   ]
  },
  {
   "cell_type": "markdown",
   "id": "ce83bab2",
   "metadata": {},
   "source": [
    "<a id=\"blanknull\"></a>\n",
    "### Blank and null votes during first rounds"
   ]
  },
  {
   "cell_type": "code",
   "execution_count": 583,
   "id": "65d34e54",
   "metadata": {},
   "outputs": [
    {
     "data": {
      "text/plain": [
       "fecha_de_eleccion\n",
       "1989-12-14    7158727\n",
       "1993-12-11    7383286\n",
       "1999-12-12    7271572\n",
       "2005-12-11    7207278\n",
       "2009-12-13    7264136\n",
       "2013-11-17    6699011\n",
       "2017-11-19    6680021\n",
       "2021-11-21    7081554\n",
       "Name: votos_totales, dtype: int64"
      ]
     },
     "execution_count": 583,
     "metadata": {},
     "output_type": "execute_result"
    }
   ],
   "source": [
    "## getting total votes for first or unique rounds of elections\n",
    "total_votes_firstround = df.query(\"votacion_presidencial == ['PRIMERA VOTACIÓN', 'UNICA VOTACIÓN']\").groupby(by=[\"fecha_de_eleccion\"])[\"votos_totales\"].sum()\n",
    "total_votes_firstround"
   ]
  },
  {
   "cell_type": "code",
   "execution_count": 584,
   "id": "99bef355",
   "metadata": {},
   "outputs": [
    {
     "data": {
      "text/plain": [
       "fecha_de_eleccion  candidato_a\n",
       "1989-12-14         VOTOS NULOS    1.447618\n",
       "1993-12-11         VOTOS NULOS    3.675721\n",
       "1999-12-12         VOTOS NULOS    2.192992\n",
       "2005-12-11         VOTOS NULOS    2.504205\n",
       "2009-12-13         VOTOS NULOS    2.759034\n",
       "2013-11-17         VOTOS NULOS    0.999177\n",
       "2017-11-19         VOTOS NULOS    0.963216\n",
       "2021-11-21         VOTOS NULOS    0.805416\n",
       "Name: votos_totales, dtype: float64"
      ]
     },
     "execution_count": 584,
     "metadata": {},
     "output_type": "execute_result"
    }
   ],
   "source": [
    "## getting the total and percentage of null votes\n",
    "null_votes = df.query(\"(sexo != sexo) and (candidato_a == 'VOTOS NULOS') and (votacion_presidencial == ['PRIMERA VOTACIÓN', 'UNICA VOTACIÓN'])\").groupby(by=[\"fecha_de_eleccion\", \"candidato_a\"])[\"votos_totales\"].sum()\n",
    "pctg_null_votes = (null_votes / total_votes_firstround) * 100\n",
    "pctg_null_votes"
   ]
  },
  {
   "cell_type": "code",
   "execution_count": 585,
   "id": "1677ad93",
   "metadata": {
    "scrolled": true
   },
   "outputs": [
    {
     "data": {
      "text/plain": [
       "fecha_de_eleccion  candidato_a    \n",
       "1989-12-14         VOTOS EN BLANCO         NaN\n",
       "1993-12-11         VOTOS EN BLANCO         NaN\n",
       "1999-12-12         VOTOS EN BLANCO    0.783751\n",
       "2005-12-11         VOTOS EN BLANCO    1.175922\n",
       "2009-12-13         VOTOS EN BLANCO    1.186266\n",
       "2013-11-17         VOTOS EN BLANCO    0.690669\n",
       "2017-11-19         VOTOS EN BLANCO    0.575762\n",
       "2021-11-21         VOTOS EN BLANCO    0.441372\n",
       "Name: votos_totales, dtype: float64"
      ]
     },
     "execution_count": 585,
     "metadata": {},
     "output_type": "execute_result"
    }
   ],
   "source": [
    "## getting the total and percentage of blank votes\n",
    "blank_votes = df.query(\"(sexo != sexo) and (candidato_a == 'VOTOS EN BLANCO') and (votacion_presidencial == ['PRIMERA VOTACIÓN', 'UNICA VOTACIÓN'])\").groupby(by=[\"fecha_de_eleccion\", \"candidato_a\"])[\"votos_totales\"].sum()\n",
    "pctg_blank_votes = (blank_votes / total_votes) * 100\n",
    "pctg_blank_votes"
   ]
  },
  {
   "cell_type": "code",
   "execution_count": 590,
   "id": "423768c4",
   "metadata": {},
   "outputs": [],
   "source": [
    "## general parameters for plotting\n",
    "years_labels = list(df.query(\"votacion_presidencial == ['PRIMERA VOTACIÓN', 'UNICA VOTACIÓN']\").año_de_eleccion.unique().astype(\"str\"))\n",
    "\n",
    "ind = np.arange(len(pctg_null_votes))\n",
    "ticks = np.arange(len(years_labels))\n",
    "width = 0.3"
   ]
  },
  {
   "cell_type": "code",
   "execution_count": 592,
   "id": "bd69c8d2",
   "metadata": {
    "scrolled": false
   },
   "outputs": [
    {
     "data": {
      "image/png": "[encoded data removed]",
      "text/plain": [
       "<Figure size 800x550 with 1 Axes>"
      ]
     },
     "metadata": {
      "needs_background": "light"
     },
     "output_type": "display_data"
    }
   ],
   "source": [
    "## plotting\n",
    "plt.figure(figsize=(8,5.5), dpi=100)\n",
    "plt.bar(ind, pctg_blank_votes, width, label = \"Blank Votes\", color=(0.33, 0.62, 0.67, 0.85))\n",
    "plt.bar(ind + width, pctg_null_votes, width, label = \"Null Votes\", color=(0.93, 0.4, 0.4, 0.6))\n",
    "legends = [\"Blank Votes\", \"Null Votes\"]\n",
    "\n",
    "plt.ylabel('Percentage of Total Votes', fontsize=14)\n",
    "plt.xlabel('Year of Elections', fontsize=14)\n",
    "plt.title('Percentage of blank and null votes during first round of elections', fontsize=20)\n",
    "locations = ticks + 0.15\n",
    "labels = years_labels\n",
    "plt.xticks(locations, labels, fontsize=12)\n",
    "plt.yticks()\n",
    "plt.legend(legends, fontsize=10)\n",
    "plt.axvline(x=4.8, ymax = 0.9, color=\"black\")\n",
    "plt.text(4.9,2.9,'2012: End of \\ncompulsory vote',rotation=0) ## adding line to mark end of compulsory vote\n",
    "sns.despine();"
   ]
  },
  {
   "cell_type": "markdown",
   "id": "8bec1038",
   "metadata": {},
   "source": [
    "<a id=\"gender\"></a>\n",
    "## Votes for Presidental Winner by gender"
   ]
  },
  {
   "cell_type": "code",
   "execution_count": 579,
   "id": "aec1df2d",
   "metadata": {
    "scrolled": true
   },
   "outputs": [
    {
     "data": {
      "text/plain": [
       "año_de_eleccion\n",
       "1989    1976409\n",
       "1993    2100504\n",
       "2000    1843833\n",
       "2006    1976269\n",
       "2010    1663508\n",
       "Name: votos_totales, dtype: int64"
      ]
     },
     "execution_count": 579,
     "metadata": {},
     "output_type": "execute_result"
    }
   ],
   "source": [
    "## total men votes for presidential winner each year\n",
    "winner_men_votes = df.query(\"electoa == 'SI' and sexo_mesa == 'HOMBRE'\").groupby(by=[\"año_de_eleccion\"])[\"votos_totales\"].sum()\n",
    "winner_men_votes"
   ]
  },
  {
   "cell_type": "code",
   "execution_count": 580,
   "id": "2084d35a",
   "metadata": {
    "scrolled": true
   },
   "outputs": [
    {
     "data": {
      "text/plain": [
       "año_de_eleccion\n",
       "1989    1874162\n",
       "1993    1943608\n",
       "2000    1839325\n",
       "2006    1746750\n",
       "2010    1927674\n",
       "Name: votos_totales, dtype: int64"
      ]
     },
     "execution_count": 580,
     "metadata": {},
     "output_type": "execute_result"
    }
   ],
   "source": [
    "## total women votes for presidential winner each year\n",
    "winner_women_votes = df.query(\"electoa == 'SI' and sexo_mesa == 'MUJER'\").groupby(by=[\"año_de_eleccion\"])[\"votos_totales\"].sum()\n",
    "winner_women_votes"
   ]
  },
  {
   "cell_type": "code",
   "execution_count": 581,
   "id": "5e1a5646",
   "metadata": {},
   "outputs": [],
   "source": [
    "## general parameters for plotting\n",
    "\n",
    "years_labels = list(df.query(\"electoa == 'SI' and sexo_mesa != 'MIXTA'\").año_de_eleccion.unique().astype(\"str\"))\n",
    "\n",
    "ind = np.arange(len(winner_women_votes))\n",
    "ticks = np.arange(len(years_labels))\n",
    "width = 0.3"
   ]
  },
  {
   "cell_type": "code",
   "execution_count": 582,
   "id": "6be25ba2",
   "metadata": {
    "scrolled": false
   },
   "outputs": [
    {
     "name": "stderr",
     "output_type": "stream",
     "text": [
      "<ipython-input-582-c972fd274405>:18: UserWarning: FixedFormatter should only be used together with FixedLocator\n",
      "  plt.gca().set_yticklabels(['{:,.0f}'.format(x) for x in values])  ## formating y axis labels\n"
     ]
    },
    {
     "data": {
      "image/png": "[encoded data removed]",
      "text/plain": [
       "<Figure size 1000x550 with 1 Axes>"
      ]
     },
     "metadata": {
      "needs_background": "light"
     },
     "output_type": "display_data"
    }
   ],
   "source": [
    "## plotting\n",
    "\n",
    "plt.figure(figsize=(10,5.5), dpi=100)\n",
    "plt.bar(ind, winner_men_votes, width, label = \"Men\", color=(0.33, 0.62, 0.67, 0.85))\n",
    "plt.bar(ind + width, winner_women_votes, width, label = \"Women\", color=(0.93, 0.4, 0.4, 0.6))\n",
    "legends = [\"Men\", \"Women\"]\n",
    "\n",
    "plt.ylabel('Total Votes for Presidental Winner', fontsize=14)\n",
    "plt.xlabel('Year of Elections', fontsize=14)\n",
    "plt.title('Votes for Presidential Winner by gender', fontsize=20)\n",
    "locations = ticks + 0.15\n",
    "labels = years_labels\n",
    "plt.xticks(locations, labels, fontsize=12)\n",
    "plt.yticks()\n",
    "plt.legend(legends, fontsize=9)\n",
    "\n",
    "values = plt.gca().get_yticks()\n",
    "plt.gca().set_yticklabels(['{:,.0f}'.format(x) for x in values])  ## formating y axis labels\n",
    "\n",
    "sns.despine();"
   ]
  },
  {
   "cell_type": "markdown",
   "id": "7ebad502",
   "metadata": {},
   "source": [
    "<a id=\"previous\"></a>\n",
    "## Votes for current runners in previous elections"
   ]
  },
  {
   "cell_type": "code",
   "execution_count": 428,
   "id": "e46011d4",
   "metadata": {
    "scrolled": true
   },
   "outputs": [
    {
     "data": {
      "text/plain": [
       "array(['GABRIEL BORIC FONT', 'JOSE ANTONIO KAST RIST',\n",
       "       'YASNA PROVOSTE CAMPILLAY', 'SEBASTIAN SICHEL RAMIREZ',\n",
       "       'EDUARDO ARTES BRICHETTI', 'MARCO ENRIQUEZ-OMINAMI',\n",
       "       'FRANCO PARISI FERNANDEZ'], dtype=object)"
      ]
     },
     "execution_count": 428,
     "metadata": {},
     "output_type": "execute_result"
    }
   ],
   "source": [
    "## list of current runners\n",
    "current_runners = df.query(\"año_de_eleccion == 2021 and candidato_a not in ['VOTOS NULOS', 'VOTOS EN BLANCO']\").candidato_a.unique()\n",
    "current_runners"
   ]
  },
  {
   "cell_type": "code",
   "execution_count": 433,
   "id": "4fb9b35f",
   "metadata": {},
   "outputs": [
    {
     "data": {
      "text/plain": [
       "array(['FRANCISCO JAVIER ERRAZURIZ', 'HERNAN BUCHI', 'PATRICIO AYLWIN',\n",
       "       'VOTOS NULOS', 'VOTOS EN BLANCO', 'ARTURO ALESSANDRI',\n",
       "       'CRISTIAN REITZE', 'EDUARDO FREI', 'EUGENIO PIZARRO',\n",
       "       'JOSE PIÑERA', 'MANFRED MAX', 'ARTURO FREI', 'GLADYS MARIN',\n",
       "       'JOAQUIN LAVIN', 'RICARDO LAGOS', 'SARA LARRAIN', 'TOMAS HIRSCH',\n",
       "       'MICHELLE BACHELET', 'SEBASTIAN PIÑERA', 'JORGE ARRATE',\n",
       "       'MARCO ENRIQUEZ-OMINAMI', 'ALFREDO SFEIR YOUNIS',\n",
       "       'EVELYN MATTHEI FORNET', 'FRANCO PARISI FERNANDEZ',\n",
       "       'MARCEL CLAUDE REYES', 'MICHELLE BACHELET JERIA',\n",
       "       'RICARDO ISRAEL ZIPPER', 'ROXANA MIRANDA MENESES',\n",
       "       'TOMAS JOCELYN-HOLT LETELIER', 'ALEJANDRO  GUILLIER ALVAREZ',\n",
       "       'ALEJANDRO NAVARRO BRAIN', 'BEATRIZ SANCHEZ MUÑOZ',\n",
       "       'CAROLINA GOIC BOROEVIC', 'EDUARDO ARTES BRICHETTI',\n",
       "       'JOSE ANTONIO KAST RIST', 'SEBASTIAN PIÑERA ECHENIQUE'],\n",
       "      dtype=object)"
      ]
     },
     "execution_count": 433,
     "metadata": {},
     "output_type": "execute_result"
    }
   ],
   "source": [
    "## identify all previous runners before 2021\n",
    "all_previous_runners = df.query(\"año_de_eleccion != 2021\").candidato_a.unique()\n",
    "all_previous_runners"
   ]
  },
  {
   "cell_type": "code",
   "execution_count": 476,
   "id": "66bbfef9",
   "metadata": {
    "scrolled": true
   },
   "outputs": [
    {
     "data": {
      "text/plain": [
       "['JOSE ANTONIO KAST RIST',\n",
       " 'EDUARDO ARTES BRICHETTI',\n",
       " 'MARCO ENRIQUEZ-OMINAMI',\n",
       " 'FRANCO PARISI FERNANDEZ']"
      ]
     },
     "execution_count": 476,
     "metadata": {},
     "output_type": "execute_result"
    }
   ],
   "source": [
    "## list of current runners who have ran before 2021\n",
    "all_previous_runners = df.query(\"año_de_eleccion != 2021\").candidato_a.unique()\n",
    "\n",
    "previous_runners_2021 = []\n",
    "\n",
    "for runner in current_runners:\n",
    "    if runner in all_previous_runners:\n",
    "        previous_runners_2021.append(runner)\n",
    "        \n",
    "previous_runners_2021"
   ]
  },
  {
   "cell_type": "code",
   "execution_count": 554,
   "id": "f76b2aae",
   "metadata": {},
   "outputs": [
    {
     "data": {
      "text/plain": [
       "2009          0\n",
       "2013          0\n",
       "2017     522145\n",
       "2021    1953950\n",
       "dtype: int64"
      ]
     },
     "execution_count": 554,
     "metadata": {},
     "output_type": "execute_result"
    }
   ],
   "source": [
    "## votes for each candidate and correction of series for later plotting\n",
    "kast_votes = df.query(\"candidato_a == 'JOSE ANTONIO KAST RIST'\").groupby(by=\"año_de_eleccion\")[\"votos_totales\"].sum()\n",
    "kast_votes = kast_votes.append(pd.Series([0, 0], index=[2009, 2013])).sort_index()\n",
    "kast_votes"
   ]
  },
  {
   "cell_type": "code",
   "execution_count": 555,
   "id": "d9c6d9f4",
   "metadata": {},
   "outputs": [
    {
     "data": {
      "text/plain": [
       "2009         0\n",
       "2013         0\n",
       "2017     33443\n",
       "2021    102493\n",
       "dtype: int64"
      ]
     },
     "execution_count": 555,
     "metadata": {},
     "output_type": "execute_result"
    }
   ],
   "source": [
    "artes_votes = df.query(\"candidato_a == 'EDUARDO ARTES BRICHETTI'\").groupby(by=\"año_de_eleccion\")[\"votos_totales\"].sum()\n",
    "artes_votes = artes_votes.append(pd.Series([0, 0], index=[2009, 2013])).sort_index()\n",
    "artes_votes"
   ]
  },
  {
   "cell_type": "code",
   "execution_count": 556,
   "id": "fe085fa4",
   "metadata": {},
   "outputs": [
    {
     "data": {
      "text/plain": [
       "año_de_eleccion\n",
       "2009    1405124\n",
       "2013     723542\n",
       "2017     376162\n",
       "2021     533656\n",
       "Name: votos_totales, dtype: int64"
      ]
     },
     "execution_count": 556,
     "metadata": {},
     "output_type": "execute_result"
    }
   ],
   "source": [
    "meo_votes = df.query(\"candidato_a == 'MARCO ENRIQUEZ-OMINAMI'\").groupby(by=\"año_de_eleccion\")[\"votos_totales\"].sum()\n",
    "meo_votes"
   ]
  },
  {
   "cell_type": "code",
   "execution_count": 557,
   "id": "115d2fbe",
   "metadata": {},
   "outputs": [
    {
     "data": {
      "text/plain": [
       "2009         0\n",
       "2013    666015\n",
       "2017         0\n",
       "2021    898406\n",
       "dtype: int64"
      ]
     },
     "execution_count": 557,
     "metadata": {},
     "output_type": "execute_result"
    }
   ],
   "source": [
    "parisi_votes = df.query(\"candidato_a == 'FRANCO PARISI FERNANDEZ'\").groupby(by=\"año_de_eleccion\")[\"votos_totales\"].sum()\n",
    "parisi_votes = parisi_votes.append(pd.Series([0, 0], index=[2009, 2017])).sort_index()\n",
    "parisi_votes"
   ]
  },
  {
   "cell_type": "code",
   "execution_count": 560,
   "id": "21b40e4a",
   "metadata": {},
   "outputs": [
    {
     "data": {
      "text/plain": [
       "['Kast', 'Artés', 'ME-O', 'Parisi']"
      ]
     },
     "execution_count": 560,
     "metadata": {},
     "output_type": "execute_result"
    }
   ],
   "source": [
    "## general parameters for plotting\n",
    "\n",
    "years_labels = df.query(\"candidato_a == 'MARCO ENRIQUEZ-OMINAMI'\").año_de_eleccion.unique()\n",
    "\n",
    "ind = np.arange(len(previous_runners_2021))\n",
    "ticks = np.arange(len(years_labels))\n",
    "width = 0.2\n",
    "candidate_labels"
   ]
  },
  {
   "cell_type": "code",
   "execution_count": 578,
   "id": "b9eecea5",
   "metadata": {
    "scrolled": false
   },
   "outputs": [
    {
     "name": "stderr",
     "output_type": "stream",
     "text": [
      "<ipython-input-578-3ce2d27255b1>:20: UserWarning: FixedFormatter should only be used together with FixedLocator\n",
      "  plt.gca().set_yticklabels(['{:,.0f}'.format(x) for x in values])  ## formating y axis labels\n"
     ]
    },
    {
     "data": {
      "image/png": "[encoded data removed]",
      "text/plain": [
       "<Figure size 1000x550 with 1 Axes>"
      ]
     },
     "metadata": {
      "needs_background": "light"
     },
     "output_type": "display_data"
    }
   ],
   "source": [
    "## plotting\n",
    "\n",
    "plt.figure(figsize=(10,5.5), dpi=100)\n",
    "plt.bar(ind + width, artes_votes, width, label = \"Artés\", color=(0.15, 0.29, 0.32, 0.9))\n",
    "plt.bar(ind + width*2, kast_votes, width, label = \"Kast\", color=(0.33, 0.62, 0.67, 0.85))\n",
    "plt.bar(ind + width*3, meo_votes, width, label = \"ME-O\", color=(0.93, 0.4, 0.4, 0.6))\n",
    "plt.bar(ind + width*4, parisi_votes, width, label = \"Parisi\", color=(0.96, 0.7, 0.2, 0.6))\n",
    "legends = [\"Artés\", \"Kast\", \"ME-O\", \"Parisi\"]\n",
    "\n",
    "plt.ylabel('Votes per Year', fontsize=14)\n",
    "plt.xlabel('Year of Elections', fontsize=14)\n",
    "plt.title('Votes for 2021 candidates in previous elections', fontsize=20)\n",
    "locations = ticks + 0.5\n",
    "labels = years_labels\n",
    "plt.xticks(locations, labels, fontsize=12)\n",
    "plt.yticks()\n",
    "plt.legend(legends, fontsize=12)\n",
    "\n",
    "values = plt.gca().get_yticks()\n",
    "plt.gca().set_yticklabels(['{:,.0f}'.format(x) for x in values])  ## formating y axis labels\n",
    "\n",
    "sns.despine();"
   ]
  },
  {
   "cell_type": "code",
   "execution_count": null,
   "id": "683b37bb",
   "metadata": {},
   "outputs": [],
   "source": []
  }
 ],
 "metadata": {
  "kernelspec": {
   "display_name": "Python 3",
   "language": "python",
   "name": "python3"
  },
  "language_info": {
   "codemirror_mode": {
    "name": "ipython",
    "version": 3
   },
   "file_extension": ".py",
   "mimetype": "text/x-python",
   "name": "python",
   "nbconvert_exporter": "python",
   "pygments_lexer": "ipython3",
   "version": "3.8.8"
  }
 },
 "nbformat": 4,
 "nbformat_minor": 5
}
