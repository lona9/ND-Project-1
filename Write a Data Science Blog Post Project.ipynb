{
 "cells": [
  {
   "cell_type": "markdown",
   "id": "8a81a646",
   "metadata": {},
   "source": [
    "# Project 1: Write a Data Science Blog Post\n",
    "\n",
    "For this project, Chilean elections datasets were used to answer some questions regarding the preferences and behavior of voters, in light of the latest election on Sunday 21, November. This data was assessed, cleaned and analyzed to generate some visualizations, which will be later used for a blog post on Medium."
   ]
  },
  {
   "cell_type": "markdown",
   "id": "b9e0f64c",
   "metadata": {},
   "source": [
    "### Table of contents\n",
    "- <a href=\"#loading\">Loading the datasets</a>\n",
    "- <a href=\"#cleaning\">Cleaning the data</a>\n",
    "- <a href=\"#analyzing\">Analyzing the data</a>\n",
    "    - <a href=\"#participation\">Participation during first and second rounds</a>\n",
    "    - <a href=\"#blanknull\">Blank and null votes during first rounds</a>\n",
    "    - <a href=\"#gender\">Votes for Presidental Winner by gender</a>\n",
    "    - <a href=\"#previous\">Votes for current runners in previous elections</a>"
   ]
  },
  {
   "cell_type": "code",
   "execution_count": 2,
   "id": "9db3bdd8",
   "metadata": {},
   "outputs": [],
   "source": [
    "## initial imports\n",
    "import pandas as pd\n",
    "import numpy as np\n",
    "import matplotlib.pyplot as plt\n",
    "import seaborn as sns\n",
    "%matplotlib inline"
   ]
  },
  {
   "cell_type": "markdown",
   "id": "a13a7e79",
   "metadata": {},
   "source": [
    "<a id=\"loading\"></a>\n",
    "## Loading the datasets\n",
    "All data was obtained from the SERVEL website: \n",
    "- Historic dataset for elections from 1989 to 2017, directly from the website\n",
    "- Data for 2021 elections was gathered from the latest election website available, and consolidated in its own file\n",
    "- Data for electoral rolls was gathered from different rolls for all years (for second rounds, the same roll was assumed)"
   ]
  },
  {
   "cell_type": "code",
   "execution_count": 3,
   "id": "39331a08",
   "metadata": {},
   "outputs": [],
   "source": [
    "## loading both datasets\n",
    "df_historic = pd.read_excel(\"resultados_elecciones_presidenciales_ce_1989_2017_Chile.xlsx\")\n",
    "df_2021 = pd.read_excel(\"ELECCIONES 2021.xlsx\")"
   ]
  },
  {
   "cell_type": "code",
   "execution_count": 25,
   "id": "a50f9cab",
   "metadata": {},
   "outputs": [],
   "source": [
    "## appending the 2021 results to the historic dataset\n",
    "df_original = df_historic.append(df_2021)\n",
    "df = df_original.copy()"
   ]
  },
  {
   "cell_type": "markdown",
   "id": "512dab32",
   "metadata": {},
   "source": [
    "<a id=\"cleaning\"></a>\n",
    "## Assesing and cleaning the data\n",
    "\n",
    "These steps where moved together after preparing the data, but respond to issues faced while coding and assessing. The main issue was the column names, as they're written in a friendly format for Excel, but not so much for pandas. We also found a lot of duplicate results when aggregating the data, which was caused by some strings being written in a slightly different way, or extra whitespace that needed to be removed. In this case, we had a lot of data concerning towns and cities for all years except 2021, so using national data was opted, but more detailed results would need an updated dataset which includes the latest election, but this is just a first look so a national overview is good too."
   ]
  },
  {
   "cell_type": "code",
   "execution_count": 5,
   "id": "1ff86f9e",
   "metadata": {
    "scrolled": false
   },
   "outputs": [
    {
     "name": "stderr",
     "output_type": "stream",
     "text": [
      "<ipython-input-5-f668a50935d7>:2: FutureWarning: The default value of regex will change from True to False in a future version. In addition, single character regular expressions will*not* be treated as literal strings when regex=True.\n",
      "  df.columns = df.columns.str.lower().str.replace(' ', '_').str.replace('(', '').str.replace(')', '').str.replace(\"ó\", \"o\").str.replace(\"í\", \"i\").str.strip()\n"
     ]
    }
   ],
   "source": [
    "## replacing uppercase characters, punctuation, spaces for easier to use columns names\n",
    "df.columns = df.columns.str.lower().str.replace(' ', '_').str.replace('(', '').str.replace(')', '').str.replace(\"ó\", \"o\").str.replace(\"í\", \"i\").str.strip()"
   ]
  },
  {
   "cell_type": "code",
   "execution_count": 6,
   "id": "58df27ed",
   "metadata": {},
   "outputs": [
    {
     "data": {
      "text/plain": [
       "Index(['tipo_de_eleccion', 'cargo', 'fecha_de_eleccion', 'año_de_eleccion',\n",
       "       'inicio_de_periodo', 'fin_de_periodo', 'periodo',\n",
       "       'votacion_presidencial', 'id_region', 'region', 'provincia',\n",
       "       'nombre_provincia', 'comuna', 'circunscripcion_electoral', 'sexo_mesa',\n",
       "       'candidato_a', 'nombres', 'apellido_paterno', 'apellido_materno',\n",
       "       'sexo', 'electoa', 'partido', 'sigla_partido', 'votos_totales'],\n",
       "      dtype='object')"
      ]
     },
     "execution_count": 6,
     "metadata": {},
     "output_type": "execute_result"
    }
   ],
   "source": [
    "## check new names\n",
    "df.columns"
   ]
  },
  {
   "cell_type": "code",
   "execution_count": 7,
   "id": "628118d3",
   "metadata": {},
   "outputs": [],
   "source": [
    "## remove extra whitespace in string columns to avoid unnecessary duplicates when aggregating results\n",
    "for column in df.select_dtypes(include=\"object\").columns:\n",
    "    df[column] = df[column].str.strip()"
   ]
  },
  {
   "cell_type": "code",
   "execution_count": 8,
   "id": "67392541",
   "metadata": {
    "scrolled": false
   },
   "outputs": [
    {
     "name": "stderr",
     "output_type": "stream",
     "text": [
      "<ipython-input-8-12b93957e503>:2: FutureWarning: The default value of regex will change from True to False in a future version.\n",
      "  df[\"region\"] = df[\"region\"].str.replace(\"DEL LIBERTADOR BDO. OHIGGINS\", \"DEL LIBERTADOR BDO. O'HIGGINS\")\n"
     ]
    }
   ],
   "source": [
    "## replace name of region to match other rows\n",
    "df[\"region\"] = df[\"region\"].str.replace(\"DEL LIBERTADOR BDO. OHIGGINS\", \"DEL LIBERTADOR BDO. O'HIGGINS\")"
   ]
  },
  {
   "cell_type": "code",
   "execution_count": 9,
   "id": "9068276a",
   "metadata": {},
   "outputs": [],
   "source": [
    "## replace candidate name to match other rows\n",
    "df[\"candidato_a\"] = df[\"candidato_a\"].str.replace('MARCO ENRIQUEZ-OMINAMI GUMUCIO', 'MARCO ENRIQUEZ-OMINAMI')\n",
    "df[\"candidato_a\"] = df[\"candidato_a\"].str.replace('MARCO  ENRIQUEZ-OMINAMI GUMUCIO', 'MARCO ENRIQUEZ-OMINAMI')\n",
    "df[\"candidato_a\"] = df[\"candidato_a\"].str.replace('FRANCO ALDO PARISI FERNANDEZ', \"FRANCO PARISI FERNANDEZ\")"
   ]
  },
  {
   "cell_type": "code",
   "execution_count": 10,
   "id": "7c5e1f73",
   "metadata": {},
   "outputs": [
    {
     "data": {
      "text/html": [
       "<div>\n",
       "<style scoped>\n",
       "    .dataframe tbody tr th:only-of-type {\n",
       "        vertical-align: middle;\n",
       "    }\n",
       "\n",
       "    .dataframe tbody tr th {\n",
       "        vertical-align: top;\n",
       "    }\n",
       "\n",
       "    .dataframe thead th {\n",
       "        text-align: right;\n",
       "    }\n",
       "</style>\n",
       "<table border=\"1\" class=\"dataframe\">\n",
       "  <thead>\n",
       "    <tr style=\"text-align: right;\">\n",
       "      <th></th>\n",
       "      <th>tipo_de_eleccion</th>\n",
       "      <th>cargo</th>\n",
       "      <th>fecha_de_eleccion</th>\n",
       "      <th>año_de_eleccion</th>\n",
       "      <th>inicio_de_periodo</th>\n",
       "      <th>fin_de_periodo</th>\n",
       "      <th>periodo</th>\n",
       "      <th>votacion_presidencial</th>\n",
       "      <th>id_region</th>\n",
       "      <th>region</th>\n",
       "      <th>...</th>\n",
       "      <th>sexo_mesa</th>\n",
       "      <th>candidato_a</th>\n",
       "      <th>nombres</th>\n",
       "      <th>apellido_paterno</th>\n",
       "      <th>apellido_materno</th>\n",
       "      <th>sexo</th>\n",
       "      <th>electoa</th>\n",
       "      <th>partido</th>\n",
       "      <th>sigla_partido</th>\n",
       "      <th>votos_totales</th>\n",
       "    </tr>\n",
       "  </thead>\n",
       "  <tbody>\n",
       "    <tr>\n",
       "      <th>4680</th>\n",
       "      <td>PRESIDENCIAL</td>\n",
       "      <td>PRESIDENTE</td>\n",
       "      <td>1993-12-11</td>\n",
       "      <td>1993</td>\n",
       "      <td>1994</td>\n",
       "      <td>2000</td>\n",
       "      <td>1994 a 2000</td>\n",
       "      <td>UNICA VOTACIÓN</td>\n",
       "      <td>1</td>\n",
       "      <td>DE TARAPACA</td>\n",
       "      <td>...</td>\n",
       "      <td>HOMBRE</td>\n",
       "      <td>ARTURO ALESSANDRI</td>\n",
       "      <td>ARTURO</td>\n",
       "      <td>ALESSANDRI</td>\n",
       "      <td>BESA</td>\n",
       "      <td>HOMBRE</td>\n",
       "      <td>NaN</td>\n",
       "      <td>INDEPENDIENTE</td>\n",
       "      <td>INDEP</td>\n",
       "      <td>12353</td>\n",
       "    </tr>\n",
       "    <tr>\n",
       "      <th>4681</th>\n",
       "      <td>PRESIDENCIAL</td>\n",
       "      <td>PRESIDENTE</td>\n",
       "      <td>1993-12-11</td>\n",
       "      <td>1993</td>\n",
       "      <td>1994</td>\n",
       "      <td>2000</td>\n",
       "      <td>1994 a 2000</td>\n",
       "      <td>UNICA VOTACIÓN</td>\n",
       "      <td>1</td>\n",
       "      <td>DE TARAPACA</td>\n",
       "      <td>...</td>\n",
       "      <td>HOMBRE</td>\n",
       "      <td>CRISTIAN REITZE</td>\n",
       "      <td>CRISTIAN</td>\n",
       "      <td>REITZE</td>\n",
       "      <td>CAMPOS</td>\n",
       "      <td>HOMBRE</td>\n",
       "      <td>NaN</td>\n",
       "      <td>ALIANZA HUMANISTA VERDE</td>\n",
       "      <td>AHV</td>\n",
       "      <td>465</td>\n",
       "    </tr>\n",
       "    <tr>\n",
       "      <th>4682</th>\n",
       "      <td>PRESIDENCIAL</td>\n",
       "      <td>PRESIDENTE</td>\n",
       "      <td>1993-12-11</td>\n",
       "      <td>1993</td>\n",
       "      <td>1994</td>\n",
       "      <td>2000</td>\n",
       "      <td>1994 a 2000</td>\n",
       "      <td>UNICA VOTACIÓN</td>\n",
       "      <td>1</td>\n",
       "      <td>DE TARAPACA</td>\n",
       "      <td>...</td>\n",
       "      <td>HOMBRE</td>\n",
       "      <td>EDUARDO FREI</td>\n",
       "      <td>EDUARDO</td>\n",
       "      <td>FREI</td>\n",
       "      <td>RUIZ-TAGLE</td>\n",
       "      <td>HOMBRE</td>\n",
       "      <td>SI</td>\n",
       "      <td>DEMOCRATA CRISTIANO</td>\n",
       "      <td>DC</td>\n",
       "      <td>22589</td>\n",
       "    </tr>\n",
       "    <tr>\n",
       "      <th>4683</th>\n",
       "      <td>PRESIDENCIAL</td>\n",
       "      <td>PRESIDENTE</td>\n",
       "      <td>1993-12-11</td>\n",
       "      <td>1993</td>\n",
       "      <td>1994</td>\n",
       "      <td>2000</td>\n",
       "      <td>1994 a 2000</td>\n",
       "      <td>UNICA VOTACIÓN</td>\n",
       "      <td>1</td>\n",
       "      <td>DE TARAPACA</td>\n",
       "      <td>...</td>\n",
       "      <td>HOMBRE</td>\n",
       "      <td>EUGENIO PIZARRO</td>\n",
       "      <td>EUGENIO</td>\n",
       "      <td>PIZARRO</td>\n",
       "      <td>POBLETE</td>\n",
       "      <td>HOMBRE</td>\n",
       "      <td>NaN</td>\n",
       "      <td>INDEPENDIENTE</td>\n",
       "      <td>INDEP</td>\n",
       "      <td>2032</td>\n",
       "    </tr>\n",
       "    <tr>\n",
       "      <th>4684</th>\n",
       "      <td>PRESIDENCIAL</td>\n",
       "      <td>PRESIDENTE</td>\n",
       "      <td>1993-12-11</td>\n",
       "      <td>1993</td>\n",
       "      <td>1994</td>\n",
       "      <td>2000</td>\n",
       "      <td>1994 a 2000</td>\n",
       "      <td>UNICA VOTACIÓN</td>\n",
       "      <td>1</td>\n",
       "      <td>DE TARAPACA</td>\n",
       "      <td>...</td>\n",
       "      <td>HOMBRE</td>\n",
       "      <td>JOSE PIÑERA</td>\n",
       "      <td>JOSE</td>\n",
       "      <td>PIÑERA</td>\n",
       "      <td>ECHENIQUE</td>\n",
       "      <td>HOMBRE</td>\n",
       "      <td>NaN</td>\n",
       "      <td>INDEPENDIENTE</td>\n",
       "      <td>INDEP</td>\n",
       "      <td>3240</td>\n",
       "    </tr>\n",
       "    <tr>\n",
       "      <th>...</th>\n",
       "      <td>...</td>\n",
       "      <td>...</td>\n",
       "      <td>...</td>\n",
       "      <td>...</td>\n",
       "      <td>...</td>\n",
       "      <td>...</td>\n",
       "      <td>...</td>\n",
       "      <td>...</td>\n",
       "      <td>...</td>\n",
       "      <td>...</td>\n",
       "      <td>...</td>\n",
       "      <td>...</td>\n",
       "      <td>...</td>\n",
       "      <td>...</td>\n",
       "      <td>...</td>\n",
       "      <td>...</td>\n",
       "      <td>...</td>\n",
       "      <td>...</td>\n",
       "      <td>...</td>\n",
       "      <td>...</td>\n",
       "      <td>...</td>\n",
       "    </tr>\n",
       "    <tr>\n",
       "      <th>12483</th>\n",
       "      <td>PRESIDENCIAL</td>\n",
       "      <td>PRESIDENTE</td>\n",
       "      <td>1993-12-11</td>\n",
       "      <td>1993</td>\n",
       "      <td>1994</td>\n",
       "      <td>2000</td>\n",
       "      <td>1994 a 2000</td>\n",
       "      <td>UNICA VOTACIÓN</td>\n",
       "      <td>13</td>\n",
       "      <td>METROPOLITANA DE SANTIAGO</td>\n",
       "      <td>...</td>\n",
       "      <td>MUJER</td>\n",
       "      <td>EUGENIO PIZARRO</td>\n",
       "      <td>EUGENIO</td>\n",
       "      <td>PIZARRO</td>\n",
       "      <td>POBLETE</td>\n",
       "      <td>HOMBRE</td>\n",
       "      <td>NaN</td>\n",
       "      <td>INDEPENDIENTE</td>\n",
       "      <td>INDEP</td>\n",
       "      <td>147</td>\n",
       "    </tr>\n",
       "    <tr>\n",
       "      <th>12484</th>\n",
       "      <td>PRESIDENCIAL</td>\n",
       "      <td>PRESIDENTE</td>\n",
       "      <td>1993-12-11</td>\n",
       "      <td>1993</td>\n",
       "      <td>1994</td>\n",
       "      <td>2000</td>\n",
       "      <td>1994 a 2000</td>\n",
       "      <td>UNICA VOTACIÓN</td>\n",
       "      <td>13</td>\n",
       "      <td>METROPOLITANA DE SANTIAGO</td>\n",
       "      <td>...</td>\n",
       "      <td>MUJER</td>\n",
       "      <td>JOSE PIÑERA</td>\n",
       "      <td>JOSE</td>\n",
       "      <td>PIÑERA</td>\n",
       "      <td>ECHENIQUE</td>\n",
       "      <td>HOMBRE</td>\n",
       "      <td>NaN</td>\n",
       "      <td>INDEPENDIENTE</td>\n",
       "      <td>INDEP</td>\n",
       "      <td>5438</td>\n",
       "    </tr>\n",
       "    <tr>\n",
       "      <th>12485</th>\n",
       "      <td>PRESIDENCIAL</td>\n",
       "      <td>PRESIDENTE</td>\n",
       "      <td>1993-12-11</td>\n",
       "      <td>1993</td>\n",
       "      <td>1994</td>\n",
       "      <td>2000</td>\n",
       "      <td>1994 a 2000</td>\n",
       "      <td>UNICA VOTACIÓN</td>\n",
       "      <td>13</td>\n",
       "      <td>METROPOLITANA DE SANTIAGO</td>\n",
       "      <td>...</td>\n",
       "      <td>MUJER</td>\n",
       "      <td>MANFRED MAX</td>\n",
       "      <td>MANFRED</td>\n",
       "      <td>MAX</td>\n",
       "      <td>NEEF</td>\n",
       "      <td>HOMBRE</td>\n",
       "      <td>NaN</td>\n",
       "      <td>INDEPENDIENTE</td>\n",
       "      <td>INDEP</td>\n",
       "      <td>1990</td>\n",
       "    </tr>\n",
       "    <tr>\n",
       "      <th>12486</th>\n",
       "      <td>PRESIDENCIAL</td>\n",
       "      <td>PRESIDENTE</td>\n",
       "      <td>1993-12-11</td>\n",
       "      <td>1993</td>\n",
       "      <td>1994</td>\n",
       "      <td>2000</td>\n",
       "      <td>1994 a 2000</td>\n",
       "      <td>UNICA VOTACIÓN</td>\n",
       "      <td>13</td>\n",
       "      <td>METROPOLITANA DE SANTIAGO</td>\n",
       "      <td>...</td>\n",
       "      <td>MUJER</td>\n",
       "      <td>VOTOS NULOS</td>\n",
       "      <td>NaN</td>\n",
       "      <td>NaN</td>\n",
       "      <td>NaN</td>\n",
       "      <td>NaN</td>\n",
       "      <td>NaN</td>\n",
       "      <td>NaN</td>\n",
       "      <td>NaN</td>\n",
       "      <td>197</td>\n",
       "    </tr>\n",
       "    <tr>\n",
       "      <th>12487</th>\n",
       "      <td>PRESIDENCIAL</td>\n",
       "      <td>PRESIDENTE</td>\n",
       "      <td>1993-12-11</td>\n",
       "      <td>1993</td>\n",
       "      <td>1994</td>\n",
       "      <td>2000</td>\n",
       "      <td>1994 a 2000</td>\n",
       "      <td>UNICA VOTACIÓN</td>\n",
       "      <td>13</td>\n",
       "      <td>METROPOLITANA DE SANTIAGO</td>\n",
       "      <td>...</td>\n",
       "      <td>MUJER</td>\n",
       "      <td>VOTOS EN BLANCO</td>\n",
       "      <td>NaN</td>\n",
       "      <td>NaN</td>\n",
       "      <td>NaN</td>\n",
       "      <td>NaN</td>\n",
       "      <td>NaN</td>\n",
       "      <td>NaN</td>\n",
       "      <td>NaN</td>\n",
       "      <td>126</td>\n",
       "    </tr>\n",
       "  </tbody>\n",
       "</table>\n",
       "<p>7808 rows × 24 columns</p>\n",
       "</div>"
      ],
      "text/plain": [
       "      tipo_de_eleccion       cargo fecha_de_eleccion  año_de_eleccion  \\\n",
       "4680      PRESIDENCIAL  PRESIDENTE        1993-12-11             1993   \n",
       "4681      PRESIDENCIAL  PRESIDENTE        1993-12-11             1993   \n",
       "4682      PRESIDENCIAL  PRESIDENTE        1993-12-11             1993   \n",
       "4683      PRESIDENCIAL  PRESIDENTE        1993-12-11             1993   \n",
       "4684      PRESIDENCIAL  PRESIDENTE        1993-12-11             1993   \n",
       "...                ...         ...               ...              ...   \n",
       "12483     PRESIDENCIAL  PRESIDENTE        1993-12-11             1993   \n",
       "12484     PRESIDENCIAL  PRESIDENTE        1993-12-11             1993   \n",
       "12485     PRESIDENCIAL  PRESIDENTE        1993-12-11             1993   \n",
       "12486     PRESIDENCIAL  PRESIDENTE        1993-12-11             1993   \n",
       "12487     PRESIDENCIAL  PRESIDENTE        1993-12-11             1993   \n",
       "\n",
       "       inicio_de_periodo  fin_de_periodo      periodo votacion_presidencial  \\\n",
       "4680                1994            2000  1994 a 2000        UNICA VOTACIÓN   \n",
       "4681                1994            2000  1994 a 2000        UNICA VOTACIÓN   \n",
       "4682                1994            2000  1994 a 2000        UNICA VOTACIÓN   \n",
       "4683                1994            2000  1994 a 2000        UNICA VOTACIÓN   \n",
       "4684                1994            2000  1994 a 2000        UNICA VOTACIÓN   \n",
       "...                  ...             ...          ...                   ...   \n",
       "12483               1994            2000  1994 a 2000        UNICA VOTACIÓN   \n",
       "12484               1994            2000  1994 a 2000        UNICA VOTACIÓN   \n",
       "12485               1994            2000  1994 a 2000        UNICA VOTACIÓN   \n",
       "12486               1994            2000  1994 a 2000        UNICA VOTACIÓN   \n",
       "12487               1994            2000  1994 a 2000        UNICA VOTACIÓN   \n",
       "\n",
       "       id_region                     region  ...  sexo_mesa  \\\n",
       "4680           1                DE TARAPACA  ...     HOMBRE   \n",
       "4681           1                DE TARAPACA  ...     HOMBRE   \n",
       "4682           1                DE TARAPACA  ...     HOMBRE   \n",
       "4683           1                DE TARAPACA  ...     HOMBRE   \n",
       "4684           1                DE TARAPACA  ...     HOMBRE   \n",
       "...          ...                        ...  ...        ...   \n",
       "12483         13  METROPOLITANA DE SANTIAGO  ...      MUJER   \n",
       "12484         13  METROPOLITANA DE SANTIAGO  ...      MUJER   \n",
       "12485         13  METROPOLITANA DE SANTIAGO  ...      MUJER   \n",
       "12486         13  METROPOLITANA DE SANTIAGO  ...      MUJER   \n",
       "12487         13  METROPOLITANA DE SANTIAGO  ...      MUJER   \n",
       "\n",
       "             candidato_a   nombres apellido_paterno apellido_materno    sexo  \\\n",
       "4680   ARTURO ALESSANDRI    ARTURO       ALESSANDRI             BESA  HOMBRE   \n",
       "4681     CRISTIAN REITZE  CRISTIAN           REITZE           CAMPOS  HOMBRE   \n",
       "4682        EDUARDO FREI   EDUARDO             FREI       RUIZ-TAGLE  HOMBRE   \n",
       "4683     EUGENIO PIZARRO   EUGENIO          PIZARRO          POBLETE  HOMBRE   \n",
       "4684         JOSE PIÑERA      JOSE           PIÑERA        ECHENIQUE  HOMBRE   \n",
       "...                  ...       ...              ...              ...     ...   \n",
       "12483    EUGENIO PIZARRO   EUGENIO          PIZARRO          POBLETE  HOMBRE   \n",
       "12484        JOSE PIÑERA      JOSE           PIÑERA        ECHENIQUE  HOMBRE   \n",
       "12485        MANFRED MAX   MANFRED              MAX             NEEF  HOMBRE   \n",
       "12486        VOTOS NULOS       NaN              NaN              NaN     NaN   \n",
       "12487    VOTOS EN BLANCO       NaN              NaN              NaN     NaN   \n",
       "\n",
       "      electoa                  partido sigla_partido votos_totales  \n",
       "4680      NaN            INDEPENDIENTE         INDEP         12353  \n",
       "4681      NaN  ALIANZA HUMANISTA VERDE           AHV           465  \n",
       "4682       SI      DEMOCRATA CRISTIANO            DC         22589  \n",
       "4683      NaN            INDEPENDIENTE         INDEP          2032  \n",
       "4684      NaN            INDEPENDIENTE         INDEP          3240  \n",
       "...       ...                      ...           ...           ...  \n",
       "12483     NaN            INDEPENDIENTE         INDEP           147  \n",
       "12484     NaN            INDEPENDIENTE         INDEP          5438  \n",
       "12485     NaN            INDEPENDIENTE         INDEP          1990  \n",
       "12486     NaN                      NaN           NaN           197  \n",
       "12487     NaN                      NaN           NaN           126  \n",
       "\n",
       "[7808 rows x 24 columns]"
      ]
     },
     "execution_count": 10,
     "metadata": {},
     "output_type": "execute_result"
    }
   ],
   "source": [
    "df.query(\"año_de_eleccion == 1993\")"
   ]
  },
  {
   "cell_type": "markdown",
   "id": "ec6e70b8",
   "metadata": {},
   "source": [
    "<a id=\"analyzing\"></a>\n",
    "## Analyzing the data\n",
    "\n",
    "The questions posed below stem from fresh curiosity after this weekend's elections, which drive the need for some insight based on previous national elections, and wanting to know how participation varies between rounds, the proportion of people who vote either blank or null on a first or unique round of elections, getting to know how men and women vote when it comes to the winner for previous elections, and to see the magnitude of new voters for candidates who were running after previous attempts. "
   ]
  },
  {
   "cell_type": "markdown",
   "id": "7d38366d",
   "metadata": {},
   "source": [
    "<a id=\"participation\"></a>\n",
    "### Participation during first and second rounds"
   ]
  },
  {
   "cell_type": "code",
   "execution_count": 593,
   "id": "f5792e6e",
   "metadata": {},
   "outputs": [],
   "source": [
    "## yearly electoral rolls data for total elegible voters\n",
    "\n",
    "electoral_rolls = {\"1989-12-14\": 7557537,\n",
    "                  \"1993-12-11\": 8085439,\n",
    "                  \"1999-12-12\": 8084476,\n",
    "                  \"2000-01-16\": 8084476,\n",
    "                  \"2005-12-11\": 8220897,\n",
    "                  \"2006-01-15\": 8220897,\n",
    "                  \"2009-12-13\": 8285186,\n",
    "                  \"2010-01-17\": 8285186,\n",
    "                  \"2013-11-17\": 13573143,\n",
    "                  \"2013-12-15\": 13573143,\n",
    "                  \"2017-11-19\": 14308151,\n",
    "                  \"2017-12-17\": 14308151,\n",
    "                  \"2021-11-21\": 14959956}"
   ]
  },
  {
   "cell_type": "code",
   "execution_count": 594,
   "id": "0ad3cc08",
   "metadata": {
    "scrolled": false
   },
   "outputs": [],
   "source": [
    "## creating lists of date labels for each rounds\n",
    "\n",
    "yearly_electoral_rolls = list(electoral_roll.values())\n",
    "\n",
    "firstround_indices = [2,4,6,8,10,12]\n",
    "secondround_indices = [3,5,7,9,11]\n",
    "firstround_rolls = [yearly_electoral_rolls[x] for x in firstround_indices]\n",
    "secondround_rolls = [yearly_electoral_rolls[x] for x in secondround_indices]"
   ]
  },
  {
   "cell_type": "code",
   "execution_count": 595,
   "id": "3c4197c2",
   "metadata": {
    "scrolled": true
   },
   "outputs": [
    {
     "data": {
      "text/plain": [
       "fecha_de_eleccion\n",
       "1999-12-12    89.944877\n",
       "2005-12-11    87.670214\n",
       "2009-12-13    87.676197\n",
       "2013-11-17    49.354899\n",
       "2017-11-19    46.686822\n",
       "2021-11-21    47.336730\n",
       "Name: votos_totales, dtype: float64"
      ]
     },
     "execution_count": 595,
     "metadata": {},
     "output_type": "execute_result"
    }
   ],
   "source": [
    "## obtaining first round total votes and percentage for each election\n",
    "firstround_total_votes = df.query(\"votacion_presidencial == ['PRIMERA VOTACIÓN']\").groupby(by=[\"fecha_de_eleccion\"])[\"votos_totales\"].sum()\n",
    "pctg_firstround_votes = firstround_total_votes / firstround_rolls * 100\n",
    "pctg_firstround_votes"
   ]
  },
  {
   "cell_type": "code",
   "execution_count": 596,
   "id": "b8f2895b",
   "metadata": {},
   "outputs": [
    {
     "data": {
      "text/plain": [
       "fecha_de_eleccion\n",
       "2000-01-16    90.627432\n",
       "2006-01-15    87.123644\n",
       "2010-01-17    86.942780\n",
       "2013-12-15    41.978125\n",
       "2017-12-17    49.003942\n",
       "Name: votos_totales, dtype: float64"
      ]
     },
     "execution_count": 596,
     "metadata": {},
     "output_type": "execute_result"
    }
   ],
   "source": [
    "## obtaining second round total votes and percentage for each election\n",
    "secondround_total_votes = df.query(\"votacion_presidencial == ['SEGUNDA VOTACIÓN']\").groupby(by=[\"fecha_de_eleccion\"])[\"votos_totales\"].sum()\n",
    "pctg_secondround_votes = secondround_total_votes / secondround_rolls * 100\n",
    "pctg_secondround_votes"
   ]
  },
  {
   "cell_type": "code",
   "execution_count": 597,
   "id": "fe650c41",
   "metadata": {
    "scrolled": true
   },
   "outputs": [
    {
     "data": {
      "text/plain": [
       "2000-01-16 00:00:00    90.627432\n",
       "2006-01-15 00:00:00    87.123644\n",
       "2010-01-17 00:00:00    86.942780\n",
       "2013-12-15 00:00:00    41.978125\n",
       "2017-12-17 00:00:00    49.003942\n",
       "2021                    0.000000\n",
       "dtype: float64"
      ]
     },
     "execution_count": 597,
     "metadata": {},
     "output_type": "execute_result"
    }
   ],
   "source": [
    "## adding a row for 2021 second round to plot all years\n",
    "secondround_2021 = pd.Series([0], index=[2021])\n",
    "pctg_secondround_votes = pctg_secondround_votes.append(secondround_2021)\n",
    "pctg_secondround_votes"
   ]
  },
  {
   "cell_type": "code",
   "execution_count": 598,
   "id": "ebef0ed2",
   "metadata": {},
   "outputs": [],
   "source": [
    "## general parameters for plotting\n",
    "rounds_years_labels = list(df.query(\"votacion_presidencial == ['PRIMERA VOTACIÓN']\").año_de_eleccion.unique().astype(\"str\"))\n",
    "ind = np.arange(len(pctg_firstround_votes))\n",
    "ticks = np.arange(len(rounds_years_labels))\n",
    "width = 0.3"
   ]
  },
  {
   "cell_type": "code",
   "execution_count": 599,
   "id": "4702d992",
   "metadata": {
    "scrolled": false
   },
   "outputs": [
    {
     "data": {
      "image/png": "[encoded data removed]",
      "text/plain": [
       "<Figure size 1000x550 with 1 Axes>"
      ]
     },
     "metadata": {
      "needs_background": "light"
     },
     "output_type": "display_data"
    }
   ],
   "source": [
    "## plotting the results\n",
    "plt.figure(figsize=(10,5.5), dpi=100)\n",
    "plt.bar(ind, pctg_firstround_votes, width, label = \"First Round\", color=(0.33, 0.62, 0.67, 0.85))\n",
    "plt.bar(ind + width, pctg_secondround_votes, width, label = \"Second Round\", color=(0.93, 0.4, 0.4, 0.6))\n",
    "legends = [\"First Round\", \"Second Round\"]\n",
    "\n",
    "plt.ylabel('Percentage of total elegible voters', fontsize=14)\n",
    "plt.xlabel('Year of Elections', fontsize=14)\n",
    "plt.title('Percentage of Voters during First and Second Rounds', fontsize=20)\n",
    "locations = ticks + 0.15\n",
    "labels = rounds_years_labels\n",
    "plt.xticks(locations, labels, fontsize=12)\n",
    "plt.yticks()\n",
    "plt.legend(legends, fontsize=10)\n",
    "plt.axvline(x=2.8, ymax = 0.9, color=\"black\")\n",
    "plt.text(2.9,75,'2012: End of \\ncompulsory vote',rotation=0)\n",
    "sns.despine();"
   ]
  },
  {
   "cell_type": "markdown",
   "id": "a3fda869",
   "metadata": {},
   "source": [
    "<a id=\"blanknull\"></a>\n",
    "### Blank and null votes during first rounds"
   ]
  },
  {
   "cell_type": "code",
   "execution_count": 601,
   "id": "65d34e54",
   "metadata": {},
   "outputs": [
    {
     "data": {
      "text/plain": [
       "fecha_de_eleccion\n",
       "1989-12-14    7158727\n",
       "1993-12-11    7383286\n",
       "1999-12-12    7271572\n",
       "2005-12-11    7207278\n",
       "2009-12-13    7264136\n",
       "2013-11-17    6699011\n",
       "2017-11-19    6680021\n",
       "2021-11-21    7081554\n",
       "Name: votos_totales, dtype: int64"
      ]
     },
     "execution_count": 601,
     "metadata": {},
     "output_type": "execute_result"
    }
   ],
   "source": [
    "## getting total votes for first or unique rounds of elections\n",
    "total_votes_firstround = df.query(\"votacion_presidencial == ['PRIMERA VOTACIÓN', 'UNICA VOTACIÓN']\").groupby(by=[\"fecha_de_eleccion\"])[\"votos_totales\"].sum()\n",
    "total_votes_firstround"
   ]
  },
  {
   "cell_type": "code",
   "execution_count": 602,
   "id": "99bef355",
   "metadata": {},
   "outputs": [
    {
     "data": {
      "text/plain": [
       "fecha_de_eleccion  candidato_a\n",
       "1989-12-14         VOTOS NULOS    1.447618\n",
       "1993-12-11         VOTOS NULOS    3.675721\n",
       "1999-12-12         VOTOS NULOS    2.192992\n",
       "2005-12-11         VOTOS NULOS    2.504205\n",
       "2009-12-13         VOTOS NULOS    2.759034\n",
       "2013-11-17         VOTOS NULOS    0.999177\n",
       "2017-11-19         VOTOS NULOS    0.963216\n",
       "2021-11-21         VOTOS NULOS    0.805416\n",
       "Name: votos_totales, dtype: float64"
      ]
     },
     "execution_count": 602,
     "metadata": {},
     "output_type": "execute_result"
    }
   ],
   "source": [
    "## getting the total and percentage of null votes\n",
    "null_votes = df.query(\"(sexo != sexo) and (candidato_a == 'VOTOS NULOS') and (votacion_presidencial == ['PRIMERA VOTACIÓN', 'UNICA VOTACIÓN'])\").groupby(by=[\"fecha_de_eleccion\", \"candidato_a\"])[\"votos_totales\"].sum()\n",
    "pctg_null_votes = (null_votes / total_votes_firstround) * 100\n",
    "pctg_null_votes"
   ]
  },
  {
   "cell_type": "code",
   "execution_count": 606,
   "id": "1677ad93",
   "metadata": {
    "scrolled": true
   },
   "outputs": [
    {
     "data": {
      "text/plain": [
       "fecha_de_eleccion  candidato_a    \n",
       "1989-12-14         VOTOS EN BLANCO    1.050983\n",
       "1993-12-11         VOTOS EN BLANCO    1.854865\n",
       "1999-12-12         VOTOS EN BLANCO    0.783751\n",
       "2005-12-11         VOTOS EN BLANCO    1.175922\n",
       "2009-12-13         VOTOS EN BLANCO    1.186266\n",
       "2013-11-17         VOTOS EN BLANCO    0.690669\n",
       "2017-11-19         VOTOS EN BLANCO    0.575762\n",
       "2021-11-21         VOTOS EN BLANCO    0.441372\n",
       "Name: votos_totales, dtype: float64"
      ]
     },
     "execution_count": 606,
     "metadata": {},
     "output_type": "execute_result"
    }
   ],
   "source": [
    "## getting the total and percentage of blank votes\n",
    "blank_votes = df.query(\"(sexo != sexo) and (candidato_a == 'VOTOS EN BLANCO') and (votacion_presidencial == ['PRIMERA VOTACIÓN', 'UNICA VOTACIÓN'])\").groupby(by=[\"fecha_de_eleccion\", \"candidato_a\"])[\"votos_totales\"].sum()\n",
    "pctg_blank_votes = (blank_votes / total_votes_firstround) * 100\n",
    "pctg_blank_votes"
   ]
  },
  {
   "cell_type": "code",
   "execution_count": 607,
   "id": "423768c4",
   "metadata": {},
   "outputs": [],
   "source": [
    "## general parameters for plotting\n",
    "years_labels = list(df.query(\"votacion_presidencial == ['PRIMERA VOTACIÓN', 'UNICA VOTACIÓN']\").año_de_eleccion.unique().astype(\"str\"))\n",
    "\n",
    "ind = np.arange(len(pctg_null_votes))\n",
    "ticks = np.arange(len(years_labels))\n",
    "width = 0.3"
   ]
  },
  {
   "cell_type": "code",
   "execution_count": 608,
   "id": "bd69c8d2",
   "metadata": {
    "scrolled": false
   },
   "outputs": [
    {
     "data": {
      "image/png": "[encoded data removed]",
      "text/plain": [
       "<Figure size 800x550 with 1 Axes>"
      ]
     },
     "metadata": {
      "needs_background": "light"
     },
     "output_type": "display_data"
    }
   ],
   "source": [
    "## plotting\n",
    "plt.figure(figsize=(8,5.5), dpi=100)\n",
    "plt.bar(ind, pctg_blank_votes, width, label = \"Blank Votes\", color=(0.33, 0.62, 0.67, 0.85))\n",
    "plt.bar(ind + width, pctg_null_votes, width, label = \"Null Votes\", color=(0.93, 0.4, 0.4, 0.6))\n",
    "legends = [\"Blank Votes\", \"Null Votes\"]\n",
    "\n",
    "plt.ylabel('Percentage of Total Votes', fontsize=14)\n",
    "plt.xlabel('Year of Elections', fontsize=14)\n",
    "plt.title('Percentage of blank and null votes during first round of elections', fontsize=20)\n",
    "locations = ticks + 0.15\n",
    "labels = years_labels\n",
    "plt.xticks(locations, labels, fontsize=12)\n",
    "plt.yticks()\n",
    "plt.legend(legends, fontsize=10)\n",
    "plt.axvline(x=4.8, ymax = 0.9, color=\"black\")\n",
    "plt.text(4.9,2.9,'2012: End of \\ncompulsory vote',rotation=0) ## adding line to mark end of compulsory vote\n",
    "sns.despine();"
   ]
  },
  {
   "cell_type": "markdown",
   "id": "c18c9eda",
   "metadata": {},
   "source": [
    "<a id=\"gender\"></a>\n",
    "## Votes for Presidental Winner by gender"
   ]
  },
  {
   "cell_type": "code",
   "execution_count": 16,
   "id": "51ab74d7",
   "metadata": {
    "scrolled": true
   },
   "outputs": [
    {
     "data": {
      "text/plain": [
       "año_de_eleccion\n",
       "1989    1976409\n",
       "1993    2100504\n",
       "2000    1843833\n",
       "2006    1976269\n",
       "2010    1663508\n",
       "Name: votos_totales, dtype: int64"
      ]
     },
     "execution_count": 16,
     "metadata": {},
     "output_type": "execute_result"
    }
   ],
   "source": [
    "## total men votes for presidential winner each year\n",
    "winner_men_votes = df.query(\"electoa == 'SI' and sexo_mesa == 'HOMBRE'\").groupby(by=[\"año_de_eleccion\"])[\"votos_totales\"].sum()\n",
    "winner_men_votes"
   ]
  },
  {
   "cell_type": "code",
   "execution_count": 17,
   "id": "a988db15",
   "metadata": {
    "scrolled": false
   },
   "outputs": [
    {
     "data": {
      "text/plain": [
       "año_de_eleccion\n",
       "1989    1874162\n",
       "1993    1943608\n",
       "2000    1839325\n",
       "2006    1746750\n",
       "2010    1927674\n",
       "Name: votos_totales, dtype: int64"
      ]
     },
     "execution_count": 17,
     "metadata": {},
     "output_type": "execute_result"
    }
   ],
   "source": [
    "## total women votes for presidential winner each year\n",
    "winner_women_votes = df.query(\"electoa == 'SI' and sexo_mesa == 'MUJER'\").groupby(by=[\"año_de_eleccion\"])[\"votos_totales\"].sum()\n",
    "winner_women_votes"
   ]
  },
  {
   "cell_type": "code",
   "execution_count": 12,
   "id": "e4393527",
   "metadata": {},
   "outputs": [
    {
     "data": {
      "text/plain": [
       "año_de_eleccion\n",
       "1989    PATRICIO AYLWINPATRICIO AYLWINPATRICIO AYLWINP...\n",
       "1993    EDUARDO FREIEDUARDO FREIEDUARDO FREIEDUARDO FR...\n",
       "2000    RICARDO LAGOSRICARDO LAGOSRICARDO LAGOSRICARDO...\n",
       "2006    MICHELLE BACHELETMICHELLE BACHELETMICHELLE BAC...\n",
       "2010    SEBASTIAN PIÑERASEBASTIAN PIÑERASEBASTIAN PIÑE...\n",
       "Name: candidato_a, dtype: object"
      ]
     },
     "execution_count": 12,
     "metadata": {},
     "output_type": "execute_result"
    }
   ],
   "source": [
    "df.query(\"electoa == 'SI' and sexo_mesa == 'MUJER'\").groupby(by=[\"año_de_eleccion\"])[\"candidato_a\"].sum()"
   ]
  },
  {
   "cell_type": "code",
   "execution_count": 23,
   "id": "dfaa34df",
   "metadata": {},
   "outputs": [],
   "source": [
    "## general parameters for plotting\n",
    "\n",
    "years_labels = [\"1989: Aylwin\", \"1993: Frei\", \"2000: Lagos\", \"2006: Bachelet\", \"2010: Piñera\"]\n",
    "\n",
    "ind = np.arange(len(winner_women_votes))\n",
    "ticks = np.arange(len(years_labels))\n",
    "width = 0.3"
   ]
  },
  {
   "cell_type": "code",
   "execution_count": 24,
   "id": "874ecc7a",
   "metadata": {
    "scrolled": false
   },
   "outputs": [
    {
     "name": "stderr",
     "output_type": "stream",
     "text": [
      "<ipython-input-24-c972fd274405>:18: UserWarning: FixedFormatter should only be used together with FixedLocator\n",
      "  plt.gca().set_yticklabels(['{:,.0f}'.format(x) for x in values])  ## formating y axis labels\n"
     ]
    },
    {
     "data": {
      "image/png": "[encoded data removed]",
      "text/plain": [
       "<Figure size 1000x550 with 1 Axes>"
      ]
     },
     "metadata": {
      "needs_background": "light"
     },
     "output_type": "display_data"
    }
   ],
   "source": [
    "## plotting\n",
    "\n",
    "plt.figure(figsize=(10,5.5), dpi=100)\n",
    "plt.bar(ind, winner_men_votes, width, label = \"Men\", color=(0.33, 0.62, 0.67, 0.85))\n",
    "plt.bar(ind + width, winner_women_votes, width, label = \"Women\", color=(0.93, 0.4, 0.4, 0.6))\n",
    "legends = [\"Men\", \"Women\"]\n",
    "\n",
    "plt.ylabel('Total Votes for Presidental Winner', fontsize=14)\n",
    "plt.xlabel('Year of Elections', fontsize=14)\n",
    "plt.title('Votes for Presidential Winner by gender', fontsize=20)\n",
    "locations = ticks + 0.15\n",
    "labels = years_labels\n",
    "plt.xticks(locations, labels, fontsize=12)\n",
    "plt.yticks()\n",
    "plt.legend(legends, fontsize=9)\n",
    "\n",
    "values = plt.gca().get_yticks()\n",
    "plt.gca().set_yticklabels(['{:,.0f}'.format(x) for x in values])  ## formating y axis labels\n",
    "\n",
    "sns.despine();"
   ]
  },
  {
   "cell_type": "markdown",
   "id": "31f7584a",
   "metadata": {},
   "source": [
    "<a id=\"previous\"></a>\n",
    "## Votes for current runners in previous elections"
   ]
  },
  {
   "cell_type": "code",
   "execution_count": 10,
   "id": "df9231e2",
   "metadata": {
    "scrolled": true
   },
   "outputs": [
    {
     "data": {
      "text/plain": [
       "array(['GABRIEL BORIC FONT', 'JOSE ANTONIO KAST RIST',\n",
       "       'YASNA PROVOSTE CAMPILLAY', 'SEBASTIAN SICHEL RAMIREZ',\n",
       "       'EDUARDO ARTES BRICHETTI', 'MARCO ENRIQUEZ-OMINAMI',\n",
       "       'FRANCO PARISI FERNANDEZ'], dtype=object)"
      ]
     },
     "execution_count": 10,
     "metadata": {},
     "output_type": "execute_result"
    }
   ],
   "source": [
    "## list of current runners\n",
    "current_runners = df.query(\"año_de_eleccion == 2021 and candidato_a not in ['VOTOS NULOS', 'VOTOS EN BLANCO']\").candidato_a.unique()\n",
    "current_runners"
   ]
  },
  {
   "cell_type": "code",
   "execution_count": 11,
   "id": "849a1ba9",
   "metadata": {},
   "outputs": [
    {
     "data": {
      "text/plain": [
       "array(['FRANCISCO JAVIER ERRAZURIZ', 'HERNAN BUCHI', 'PATRICIO AYLWIN',\n",
       "       'VOTOS NULOS', 'VOTOS EN BLANCO', 'ARTURO ALESSANDRI',\n",
       "       'CRISTIAN REITZE', 'EDUARDO FREI', 'EUGENIO PIZARRO',\n",
       "       'JOSE PIÑERA', 'MANFRED MAX', 'ARTURO FREI', 'GLADYS MARIN',\n",
       "       'JOAQUIN LAVIN', 'RICARDO LAGOS', 'SARA LARRAIN', 'TOMAS HIRSCH',\n",
       "       'MICHELLE BACHELET', 'SEBASTIAN PIÑERA', 'JORGE ARRATE',\n",
       "       'MARCO ENRIQUEZ-OMINAMI', 'ALFREDO SFEIR YOUNIS',\n",
       "       'EVELYN MATTHEI FORNET', 'FRANCO PARISI FERNANDEZ',\n",
       "       'MARCEL CLAUDE REYES', 'MICHELLE BACHELET JERIA',\n",
       "       'RICARDO ISRAEL ZIPPER', 'ROXANA MIRANDA MENESES',\n",
       "       'TOMAS JOCELYN-HOLT LETELIER', 'ALEJANDRO  GUILLIER ALVAREZ',\n",
       "       'ALEJANDRO NAVARRO BRAIN', 'BEATRIZ SANCHEZ MUÑOZ',\n",
       "       'CAROLINA GOIC BOROEVIC', 'EDUARDO ARTES BRICHETTI',\n",
       "       'JOSE ANTONIO KAST RIST', 'SEBASTIAN PIÑERA ECHENIQUE'],\n",
       "      dtype=object)"
      ]
     },
     "execution_count": 11,
     "metadata": {},
     "output_type": "execute_result"
    }
   ],
   "source": [
    "## identify all previous runners before 2021\n",
    "all_previous_runners = df.query(\"año_de_eleccion != 2021\").candidato_a.unique()\n",
    "all_previous_runners"
   ]
  },
  {
   "cell_type": "code",
   "execution_count": 76,
   "id": "dbb27579",
   "metadata": {
    "scrolled": true
   },
   "outputs": [
    {
     "data": {
      "text/plain": [
       "['JOSE ANTONIO KAST RIST',\n",
       " 'EDUARDO ARTES BRICHETTI',\n",
       " 'MARCO ENRIQUEZ-OMINAMI',\n",
       " 'FRANCO PARISI FERNANDEZ']"
      ]
     },
     "execution_count": 76,
     "metadata": {},
     "output_type": "execute_result"
    }
   ],
   "source": [
    "## list of current runners who have ran before 2021\n",
    "all_previous_runners = df.query(\"año_de_eleccion != 2021\").candidato_a.unique()\n",
    "\n",
    "previous_runners_2021 = []\n",
    "\n",
    "for runner in current_runners:\n",
    "    if runner in all_previous_runners:\n",
    "        previous_runners_2021.append(runner)\n",
    "        \n",
    "previous_runners_2021"
   ]
  },
  {
   "cell_type": "code",
   "execution_count": 70,
   "id": "b0ba7a4a",
   "metadata": {},
   "outputs": [],
   "source": [
    "## years_to_compare was defined based on ME-O, who has ran 4 times in a row\n",
    "def candidate_votes(candidate_name):\n",
    "    '''\n",
    "    INPUT: \n",
    "    candidate_name (str): name of the candidate\n",
    "    \n",
    "    OUTPUT:\n",
    "    votes (panda Series): total candidate votes for each year from 2009 to 2021. \n",
    "    If the candidate didn't run for any of those years, 0 votes will be returned.\n",
    "    '''\n",
    "    \n",
    "    votes = df.query(\"candidato_a == @candidate_name\").groupby(by=\"año_de_eleccion\")[\"votos_totales\"].sum()\n",
    "    years_to_compare = [2009, 2013, 2017, 2021]\n",
    "    out_years = [x for x in years_to_compare if x not in votes.index]\n",
    "    zeros = [0 for x in range(len(out_years))]\n",
    "    votes = votes.append(pd.Series(zeros, index=out_years)).sort_index()\n",
    "        \n",
    "    return votes"
   ]
  },
  {
   "cell_type": "code",
   "execution_count": 79,
   "id": "1a115d49",
   "metadata": {
    "scrolled": true
   },
   "outputs": [
    {
     "data": {
      "text/plain": [
       "2009          0\n",
       "2013          0\n",
       "2017     522145\n",
       "2021    1953950\n",
       "dtype: int64"
      ]
     },
     "execution_count": 79,
     "metadata": {},
     "output_type": "execute_result"
    }
   ],
   "source": [
    "## votes for each candidate and correction of series for later plotting\n",
    "\n",
    "kast_votes = candidate_votes(previous_runners_2021[0])\n",
    "kast_votes"
   ]
  },
  {
   "cell_type": "code",
   "execution_count": 73,
   "id": "2f30f8e8",
   "metadata": {},
   "outputs": [
    {
     "data": {
      "text/plain": [
       "2009         0\n",
       "2013         0\n",
       "2017     33443\n",
       "2021    102493\n",
       "dtype: int64"
      ]
     },
     "execution_count": 73,
     "metadata": {},
     "output_type": "execute_result"
    }
   ],
   "source": [
    "artes_votes = candidate_votes(previous_runners_2021[1])\n",
    "artes_votes"
   ]
  },
  {
   "cell_type": "code",
   "execution_count": 74,
   "id": "d2b0ce44",
   "metadata": {},
   "outputs": [
    {
     "name": "stderr",
     "output_type": "stream",
     "text": [
      "<ipython-input-70-d7b1c29f3cbb>:13: DeprecationWarning: The default dtype for empty Series will be 'object' instead of 'float64' in a future version. Specify a dtype explicitly to silence this warning.\n",
      "  votes = votes.append(pd.Series(zeros, index=out_years)).sort_index()\n"
     ]
    },
    {
     "data": {
      "text/plain": [
       "2009    1405124\n",
       "2013     723542\n",
       "2017     376162\n",
       "2021     533656\n",
       "dtype: int64"
      ]
     },
     "execution_count": 74,
     "metadata": {},
     "output_type": "execute_result"
    }
   ],
   "source": [
    "meo_votes = candidate_votes(previous_runners_2021[2])\n",
    "meo_votes"
   ]
  },
  {
   "cell_type": "code",
   "execution_count": 75,
   "id": "014f9b86",
   "metadata": {},
   "outputs": [
    {
     "data": {
      "text/plain": [
       "2009         0\n",
       "2013    666015\n",
       "2017         0\n",
       "2021    898406\n",
       "dtype: int64"
      ]
     },
     "execution_count": 75,
     "metadata": {},
     "output_type": "execute_result"
    }
   ],
   "source": [
    "parisi_votes = candidate_votes(previous_runners_2021[3])\n",
    "parisi_votes"
   ]
  },
  {
   "cell_type": "code",
   "execution_count": 82,
   "id": "0d0ce764",
   "metadata": {},
   "outputs": [],
   "source": [
    "## general parameters for plotting\n",
    "\n",
    "years_labels = df.query(\"candidato_a == 'MARCO ENRIQUEZ-OMINAMI'\").año_de_eleccion.unique()\n",
    "\n",
    "ind = np.arange(len(previous_runners_2021))\n",
    "ticks = np.arange(len(years_labels))\n",
    "width = 0.2"
   ]
  },
  {
   "cell_type": "code",
   "execution_count": 83,
   "id": "24e8d797",
   "metadata": {
    "scrolled": false
   },
   "outputs": [
    {
     "name": "stderr",
     "output_type": "stream",
     "text": [
      "<ipython-input-83-3ce2d27255b1>:20: UserWarning: FixedFormatter should only be used together with FixedLocator\n",
      "  plt.gca().set_yticklabels(['{:,.0f}'.format(x) for x in values])  ## formating y axis labels\n"
     ]
    },
    {
     "data": {
      "image/png": "[encoded data removed]",
      "text/plain": [
       "<Figure size 1000x550 with 1 Axes>"
      ]
     },
     "metadata": {
      "needs_background": "light"
     },
     "output_type": "display_data"
    }
   ],
   "source": [
    "## plotting\n",
    "\n",
    "plt.figure(figsize=(10,5.5), dpi=100)\n",
    "plt.bar(ind + width, artes_votes, width, label = \"Artés\", color=(0.15, 0.29, 0.32, 0.9))\n",
    "plt.bar(ind + width*2, kast_votes, width, label = \"Kast\", color=(0.33, 0.62, 0.67, 0.85))\n",
    "plt.bar(ind + width*3, meo_votes, width, label = \"ME-O\", color=(0.93, 0.4, 0.4, 0.6))\n",
    "plt.bar(ind + width*4, parisi_votes, width, label = \"Parisi\", color=(0.96, 0.7, 0.2, 0.6))\n",
    "legends = [\"Artés\", \"Kast\", \"ME-O\", \"Parisi\"]\n",
    "\n",
    "plt.ylabel('Votes per Year', fontsize=14)\n",
    "plt.xlabel('Year of Elections', fontsize=14)\n",
    "plt.title('Votes for 2021 candidates in previous elections', fontsize=20)\n",
    "locations = ticks + 0.5\n",
    "labels = years_labels\n",
    "plt.xticks(locations, labels, fontsize=12)\n",
    "plt.yticks()\n",
    "plt.legend(legends, fontsize=12)\n",
    "\n",
    "values = plt.gca().get_yticks()\n",
    "plt.gca().set_yticklabels(['{:,.0f}'.format(x) for x in values])  ## formating y axis labels\n",
    "\n",
    "sns.despine();"
   ]
  }
 ],
 "metadata": {
  "kernelspec": {
   "display_name": "Python 3",
   "language": "python",
   "name": "python3"
  },
  "language_info": {
   "codemirror_mode": {
    "name": "ipython",
    "version": 3
   },
   "file_extension": ".py",
   "mimetype": "text/x-python",
   "name": "python",
   "nbconvert_exporter": "python",
   "pygments_lexer": "ipython3",
   "version": "3.8.8"
  }
 },
 "nbformat": 4,
 "nbformat_minor": 5
}
